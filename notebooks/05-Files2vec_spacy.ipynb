{
 "cells": [
  {
   "cell_type": "code",
   "execution_count": 1,
   "metadata": {},
   "outputs": [],
   "source": [
    "import pandas as pd\n",
    "import numpy as np\n",
    "import re\n",
    "# from sklearn.model_selection import train_test_split\n",
    "\n",
    "# import spacy.cli\n",
    "# spacy.cli.download(\"pt_core_news_sm\")\n",
    "# nlp= spacy.load('pt_core_news_sm')\n",
    "\n",
    "# my_file = open(\"stopwords.txt\", \"r\")\n",
    "# stopwords = [x.strip(' ') for x in my_file.read().split('\\n')]\n",
    "# dfthousand = pd.read_json('../data/portal_merge_eco.json')"
   ]
  },
  {
   "cell_type": "code",
   "execution_count": 25,
   "metadata": {},
   "outputs": [],
   "source": [
    "df = pd.read_json('../data/cvm_merge_eco.json')"
   ]
  },
  {
   "cell_type": "code",
   "execution_count": 26,
   "metadata": {
    "scrolled": true
   },
   "outputs": [],
   "source": [
    "df['NM_ARQ']=[x.split('.')[0]+'.txt' for x in df['NM_ARQ']]"
   ]
  },
  {
   "cell_type": "code",
   "execution_count": 29,
   "metadata": {},
   "outputs": [],
   "source": [
    "def open_txt_usb(file):\n",
    "#     print(file)\n",
    "    try:\n",
    "        try:\n",
    "            with open(f'/media/mateus/F384-E080/fee/txt/{file}','r') as file:\n",
    "                text = file.read()\n",
    "                file.close()\n",
    "                return len(text)/1000\n",
    "        except FileNotFoundError:\n",
    "            with open(f'/media/mateus/F384-E080/fee/txt2/{file}','r') as file:\n",
    "                text = file.read()\n",
    "                file.close()\n",
    "                return len(text)/1000\n",
    "    except FileNotFoundError:\n",
    "        return 'not_downloaded'"
   ]
  },
  {
   "cell_type": "markdown",
   "metadata": {},
   "source": [
    "# important match fulltext"
   ]
  },
  {
   "cell_type": "code",
   "execution_count": 30,
   "metadata": {
    "scrolled": true
   },
   "outputs": [],
   "source": [
    "df['FULL_TEXT'] = df['NM_ARQ'].apply(lambda x: open_txt_usb(x))"
   ]
  },
  {
   "cell_type": "code",
   "execution_count": 16,
   "metadata": {
    "scrolled": true
   },
   "outputs": [],
   "source": [
    "oi = df[(df['FULL_TEXT']== 'not_downloaded') | (df['FULL_TEXT']== '')]"
   ]
  },
  {
   "cell_type": "code",
   "execution_count": 36,
   "metadata": {},
   "outputs": [],
   "source": [
    "df = df[(df['FULL_TEXT']!= 'not_downloaded') & (df['FULL_TEXT']== '')]"
   ]
  },
  {
   "cell_type": "code",
   "execution_count": 37,
   "metadata": {
    "scrolled": true
   },
   "outputs": [
    {
     "data": {
      "text/html": [
       "<div>\n",
       "<style scoped>\n",
       "    .dataframe tbody tr th:only-of-type {\n",
       "        vertical-align: middle;\n",
       "    }\n",
       "\n",
       "    .dataframe tbody tr th {\n",
       "        vertical-align: top;\n",
       "    }\n",
       "\n",
       "    .dataframe thead th {\n",
       "        text-align: right;\n",
       "    }\n",
       "</style>\n",
       "<table border=\"1\" class=\"dataframe\">\n",
       "  <thead>\n",
       "    <tr style=\"text-align: right;\">\n",
       "      <th></th>\n",
       "      <th>CNPJ_FUNDO</th>\n",
       "      <th>DENOM_SOCIAL</th>\n",
       "      <th>DT_COMPTC</th>\n",
       "      <th>TP_DOC</th>\n",
       "      <th>NM_ARQ</th>\n",
       "      <th>LINK_ARQ</th>\n",
       "      <th>Name</th>\n",
       "      <th>Employer ID number</th>\n",
       "      <th>Administrator</th>\n",
       "      <th>Series Start Date</th>\n",
       "      <th>Res 3792/4661 (acc regul)</th>\n",
       "      <th>Date of regulation</th>\n",
       "      <th>FULL_TEXT</th>\n",
       "    </tr>\n",
       "  </thead>\n",
       "  <tbody>\n",
       "  </tbody>\n",
       "</table>\n",
       "</div>"
      ],
      "text/plain": [
       "Empty DataFrame\n",
       "Columns: [CNPJ_FUNDO, DENOM_SOCIAL, DT_COMPTC, TP_DOC, NM_ARQ, LINK_ARQ, Name, Employer ID number, Administrator, Series Start Date, Res 3792/4661 (acc regul), Date of regulation, FULL_TEXT]\n",
       "Index: []"
      ]
     },
     "execution_count": 37,
     "metadata": {},
     "output_type": "execute_result"
    }
   ],
   "source": [
    "df.sort_values(by= 'FULL_TEXT', ascending=False)"
   ]
  },
  {
   "cell_type": "code",
   "execution_count": 35,
   "metadata": {},
   "outputs": [
    {
     "data": {
      "text/html": [
       "<div>\n",
       "<style scoped>\n",
       "    .dataframe tbody tr th:only-of-type {\n",
       "        vertical-align: middle;\n",
       "    }\n",
       "\n",
       "    .dataframe tbody tr th {\n",
       "        vertical-align: top;\n",
       "    }\n",
       "\n",
       "    .dataframe thead th {\n",
       "        text-align: right;\n",
       "    }\n",
       "</style>\n",
       "<table border=\"1\" class=\"dataframe\">\n",
       "  <thead>\n",
       "    <tr style=\"text-align: right;\">\n",
       "      <th></th>\n",
       "      <th>CNPJ_FUNDO</th>\n",
       "      <th>DENOM_SOCIAL</th>\n",
       "      <th>DT_COMPTC</th>\n",
       "      <th>TP_DOC</th>\n",
       "      <th>NM_ARQ</th>\n",
       "      <th>LINK_ARQ</th>\n",
       "      <th>Name</th>\n",
       "      <th>Employer ID number</th>\n",
       "      <th>Administrator</th>\n",
       "      <th>Series Start Date</th>\n",
       "      <th>Res 3792/4661 (acc regul)</th>\n",
       "      <th>Date of regulation</th>\n",
       "      <th>FULL_TEXT</th>\n",
       "    </tr>\n",
       "  </thead>\n",
       "  <tbody>\n",
       "    <tr>\n",
       "      <th>110</th>\n",
       "      <td>11147668000182</td>\n",
       "      <td>ACCESS USA COMPANIES FUNDO DE INVESTIMENTO EM ...</td>\n",
       "      <td>2016-04-19</td>\n",
       "      <td>REGUL FDO</td>\n",
       "      <td>20160418142539UP6ab839e25ccf4383ac83b742a09a5f...</td>\n",
       "      <td>http://sistemas.cvm.gov.br/docsrecebidos/20160...</td>\n",
       "      <td>Access Usa Companies FIA Ie</td>\n",
       "      <td>11147668000182</td>\n",
       "      <td>BNP Paribas</td>\n",
       "      <td>2010-07-28</td>\n",
       "      <td>1</td>\n",
       "      <td>2021-02-17</td>\n",
       "      <td>0</td>\n",
       "    </tr>\n",
       "    <tr>\n",
       "      <th>165</th>\n",
       "      <td>11409506000175</td>\n",
       "      <td>CSHG FMD FUNDO DE INVESTIMENTO EM COTAS DE FUN...</td>\n",
       "      <td>2016-05-03</td>\n",
       "      <td>REGUL FDO</td>\n",
       "      <td>20160503184155UPd6ae3f20e3c94f9597d580c4230f55...</td>\n",
       "      <td>http://sistemas.cvm.gov.br/docsrecebidos/20160...</td>\n",
       "      <td>CSHG Wm Fmd Fc FI Mult - Cred Priv Ie</td>\n",
       "      <td>11409506000175</td>\n",
       "      <td>Credit Suisse Hedging Griffo Cor Val S.A</td>\n",
       "      <td>2010-06-10</td>\n",
       "      <td>0</td>\n",
       "      <td>2021-03-02</td>\n",
       "      <td>0</td>\n",
       "    </tr>\n",
       "    <tr>\n",
       "      <th>166</th>\n",
       "      <td>11409506000175</td>\n",
       "      <td>CSHG FMD FUNDO DE INVESTIMENTO EM COTAS DE FUN...</td>\n",
       "      <td>2016-05-03</td>\n",
       "      <td>REGUL FDO</td>\n",
       "      <td>20160503184729UP7957091f0c7b4279ae108fb52ff2c3...</td>\n",
       "      <td>http://sistemas.cvm.gov.br/docsrecebidos/20160...</td>\n",
       "      <td>CSHG Wm Fmd Fc FI Mult - Cred Priv Ie</td>\n",
       "      <td>11409506000175</td>\n",
       "      <td>Credit Suisse Hedging Griffo Cor Val S.A</td>\n",
       "      <td>2010-06-10</td>\n",
       "      <td>0</td>\n",
       "      <td>2021-03-02</td>\n",
       "      <td>0</td>\n",
       "    </tr>\n",
       "    <tr>\n",
       "      <th>167</th>\n",
       "      <td>11409506000175</td>\n",
       "      <td>CSHG FMD FUNDO DE INVESTIMENTO EM COTAS DE FUN...</td>\n",
       "      <td>2016-11-29</td>\n",
       "      <td>REGUL FDO</td>\n",
       "      <td>20161129171315UP8064bead2cc742e3afcb920f77f2fb...</td>\n",
       "      <td>http://sistemas.cvm.gov.br/docsrecebidos/20161...</td>\n",
       "      <td>CSHG Wm Fmd Fc FI Mult - Cred Priv Ie</td>\n",
       "      <td>11409506000175</td>\n",
       "      <td>Credit Suisse Hedging Griffo Cor Val S.A</td>\n",
       "      <td>2010-06-10</td>\n",
       "      <td>0</td>\n",
       "      <td>2021-03-02</td>\n",
       "      <td>0</td>\n",
       "    </tr>\n",
       "    <tr>\n",
       "      <th>239</th>\n",
       "      <td>11991663000131</td>\n",
       "      <td>CSHG GEOMAX FUNDO DE INVESTIMENTO EM COTAS DE ...</td>\n",
       "      <td>2019-06-06</td>\n",
       "      <td>REGUL FDO</td>\n",
       "      <td>20190606193651UP3486d7fa151445c988d69774dc048b...</td>\n",
       "      <td>http://sistemas.cvm.gov.br/docsrecebidos/20190...</td>\n",
       "      <td>CSHG Geomax Fc FI Mult Cred Priv Ie</td>\n",
       "      <td>11991663000131</td>\n",
       "      <td>Credit Suisse Hedging Griffo Cor Val S.A</td>\n",
       "      <td>2010-08-04</td>\n",
       "      <td>0</td>\n",
       "      <td>2021-04-06</td>\n",
       "      <td>0</td>\n",
       "    </tr>\n",
       "    <tr>\n",
       "      <th>...</th>\n",
       "      <td>...</td>\n",
       "      <td>...</td>\n",
       "      <td>...</td>\n",
       "      <td>...</td>\n",
       "      <td>...</td>\n",
       "      <td>...</td>\n",
       "      <td>...</td>\n",
       "      <td>...</td>\n",
       "      <td>...</td>\n",
       "      <td>...</td>\n",
       "      <td>...</td>\n",
       "      <td>...</td>\n",
       "      <td>...</td>\n",
       "    </tr>\n",
       "    <tr>\n",
       "      <th>18827</th>\n",
       "      <td>25036645000105</td>\n",
       "      <td>CSHG DRAGSTER II FUNDO DE INVESTIMENTO MULTIME...</td>\n",
       "      <td>2016-11-01</td>\n",
       "      <td>REGUL FDO</td>\n",
       "      <td>20161101163030UP4529dbd0544c49c98b42d1f79bc7d8...</td>\n",
       "      <td>http://sistemas.cvm.gov.br/docsrecebidos/20161...</td>\n",
       "      <td>CSHG Dragster II FI Mult Cred Priv Ie</td>\n",
       "      <td>25036645000105</td>\n",
       "      <td>Credit Suisse Hedging Griffo Cor Val S.A</td>\n",
       "      <td>2016-10-25</td>\n",
       "      <td>0</td>\n",
       "      <td>2016-11-01</td>\n",
       "      <td>0</td>\n",
       "    </tr>\n",
       "    <tr>\n",
       "      <th>18846</th>\n",
       "      <td>19250685000152</td>\n",
       "      <td>RIO FORMOSO FUNDO DE INVESTIMENTO EM DIREITOS ...</td>\n",
       "      <td>2016-04-04</td>\n",
       "      <td>REGUL FDO</td>\n",
       "      <td>20171030174246UP3ef08bf3026a4e199ae65c371e56fe...</td>\n",
       "      <td>http://sistemas.cvm.gov.br/docsrecebidos/20171...</td>\n",
       "      <td>Rio Formoso FIDC Np-Sen</td>\n",
       "      <td>19250685000152</td>\n",
       "      <td>Intrader Dtvm Ltda</td>\n",
       "      <td>2017-05-24</td>\n",
       "      <td>0</td>\n",
       "      <td>-</td>\n",
       "      <td>0</td>\n",
       "    </tr>\n",
       "    <tr>\n",
       "      <th>18855</th>\n",
       "      <td>18636135000103</td>\n",
       "      <td>POWER I FUNDO DE INVESTIMENTO EM PARTICIPA��ES...</td>\n",
       "      <td>2016-05-27</td>\n",
       "      <td>REGUL FDO</td>\n",
       "      <td>20160602200159UPafea84e991e94a509d90047f04a6bf...</td>\n",
       "      <td>http://sistemas.cvm.gov.br/docsrecebidos/20160...</td>\n",
       "      <td>Power I FIP</td>\n",
       "      <td>18636135000103</td>\n",
       "      <td>Brookfield Brasil Asset Management</td>\n",
       "      <td>2019-07-04</td>\n",
       "      <td>0</td>\n",
       "      <td>-</td>\n",
       "      <td>0</td>\n",
       "    </tr>\n",
       "    <tr>\n",
       "      <th>18856</th>\n",
       "      <td>18636135000103</td>\n",
       "      <td>POWER I FUNDO DE INVESTIMENTO EM PARTICIPA��ES...</td>\n",
       "      <td>2016-10-27</td>\n",
       "      <td>REGUL FDO</td>\n",
       "      <td>20161028182102UPeac778c4291c4542a724af21e61b1e...</td>\n",
       "      <td>http://sistemas.cvm.gov.br/docsrecebidos/20161...</td>\n",
       "      <td>Power I FIP</td>\n",
       "      <td>18636135000103</td>\n",
       "      <td>Brookfield Brasil Asset Management</td>\n",
       "      <td>2019-07-04</td>\n",
       "      <td>0</td>\n",
       "      <td>-</td>\n",
       "      <td>0</td>\n",
       "    </tr>\n",
       "    <tr>\n",
       "      <th>18857</th>\n",
       "      <td>18636135000103</td>\n",
       "      <td>POWER I FUNDO DE INVESTIMENTO EM PARTICIPA��ES...</td>\n",
       "      <td>2015-12-23</td>\n",
       "      <td>REGUL FDO</td>\n",
       "      <td>20151230114846UPe4959972171d4374a3be9a155da13a...</td>\n",
       "      <td>http://sistemas.cvm.gov.br/docsrecebidos/20151...</td>\n",
       "      <td>Power I FIP</td>\n",
       "      <td>18636135000103</td>\n",
       "      <td>Brookfield Brasil Asset Management</td>\n",
       "      <td>2019-07-04</td>\n",
       "      <td>0</td>\n",
       "      <td>-</td>\n",
       "      <td>0</td>\n",
       "    </tr>\n",
       "  </tbody>\n",
       "</table>\n",
       "<p>931 rows × 13 columns</p>\n",
       "</div>"
      ],
      "text/plain": [
       "           CNPJ_FUNDO                                       DENOM_SOCIAL  \\\n",
       "110    11147668000182  ACCESS USA COMPANIES FUNDO DE INVESTIMENTO EM ...   \n",
       "165    11409506000175  CSHG FMD FUNDO DE INVESTIMENTO EM COTAS DE FUN...   \n",
       "166    11409506000175  CSHG FMD FUNDO DE INVESTIMENTO EM COTAS DE FUN...   \n",
       "167    11409506000175  CSHG FMD FUNDO DE INVESTIMENTO EM COTAS DE FUN...   \n",
       "239    11991663000131  CSHG GEOMAX FUNDO DE INVESTIMENTO EM COTAS DE ...   \n",
       "...               ...                                                ...   \n",
       "18827  25036645000105  CSHG DRAGSTER II FUNDO DE INVESTIMENTO MULTIME...   \n",
       "18846  19250685000152  RIO FORMOSO FUNDO DE INVESTIMENTO EM DIREITOS ...   \n",
       "18855  18636135000103  POWER I FUNDO DE INVESTIMENTO EM PARTICIPA��ES...   \n",
       "18856  18636135000103  POWER I FUNDO DE INVESTIMENTO EM PARTICIPA��ES...   \n",
       "18857  18636135000103  POWER I FUNDO DE INVESTIMENTO EM PARTICIPA��ES...   \n",
       "\n",
       "        DT_COMPTC     TP_DOC  \\\n",
       "110    2016-04-19  REGUL FDO   \n",
       "165    2016-05-03  REGUL FDO   \n",
       "166    2016-05-03  REGUL FDO   \n",
       "167    2016-11-29  REGUL FDO   \n",
       "239    2019-06-06  REGUL FDO   \n",
       "...           ...        ...   \n",
       "18827  2016-11-01  REGUL FDO   \n",
       "18846  2016-04-04  REGUL FDO   \n",
       "18855  2016-05-27  REGUL FDO   \n",
       "18856  2016-10-27  REGUL FDO   \n",
       "18857  2015-12-23  REGUL FDO   \n",
       "\n",
       "                                                  NM_ARQ  \\\n",
       "110    20160418142539UP6ab839e25ccf4383ac83b742a09a5f...   \n",
       "165    20160503184155UPd6ae3f20e3c94f9597d580c4230f55...   \n",
       "166    20160503184729UP7957091f0c7b4279ae108fb52ff2c3...   \n",
       "167    20161129171315UP8064bead2cc742e3afcb920f77f2fb...   \n",
       "239    20190606193651UP3486d7fa151445c988d69774dc048b...   \n",
       "...                                                  ...   \n",
       "18827  20161101163030UP4529dbd0544c49c98b42d1f79bc7d8...   \n",
       "18846  20171030174246UP3ef08bf3026a4e199ae65c371e56fe...   \n",
       "18855  20160602200159UPafea84e991e94a509d90047f04a6bf...   \n",
       "18856  20161028182102UPeac778c4291c4542a724af21e61b1e...   \n",
       "18857  20151230114846UPe4959972171d4374a3be9a155da13a...   \n",
       "\n",
       "                                                LINK_ARQ  \\\n",
       "110    http://sistemas.cvm.gov.br/docsrecebidos/20160...   \n",
       "165    http://sistemas.cvm.gov.br/docsrecebidos/20160...   \n",
       "166    http://sistemas.cvm.gov.br/docsrecebidos/20160...   \n",
       "167    http://sistemas.cvm.gov.br/docsrecebidos/20161...   \n",
       "239    http://sistemas.cvm.gov.br/docsrecebidos/20190...   \n",
       "...                                                  ...   \n",
       "18827  http://sistemas.cvm.gov.br/docsrecebidos/20161...   \n",
       "18846  http://sistemas.cvm.gov.br/docsrecebidos/20171...   \n",
       "18855  http://sistemas.cvm.gov.br/docsrecebidos/20160...   \n",
       "18856  http://sistemas.cvm.gov.br/docsrecebidos/20161...   \n",
       "18857  http://sistemas.cvm.gov.br/docsrecebidos/20151...   \n",
       "\n",
       "                                        Name  Employer ID number  \\\n",
       "110              Access Usa Companies FIA Ie      11147668000182   \n",
       "165    CSHG Wm Fmd Fc FI Mult - Cred Priv Ie      11409506000175   \n",
       "166    CSHG Wm Fmd Fc FI Mult - Cred Priv Ie      11409506000175   \n",
       "167    CSHG Wm Fmd Fc FI Mult - Cred Priv Ie      11409506000175   \n",
       "239      CSHG Geomax Fc FI Mult Cred Priv Ie      11991663000131   \n",
       "...                                      ...                 ...   \n",
       "18827  CSHG Dragster II FI Mult Cred Priv Ie      25036645000105   \n",
       "18846                Rio Formoso FIDC Np-Sen      19250685000152   \n",
       "18855                            Power I FIP      18636135000103   \n",
       "18856                            Power I FIP      18636135000103   \n",
       "18857                            Power I FIP      18636135000103   \n",
       "\n",
       "                                  Administrator Series Start Date  \\\n",
       "110                                 BNP Paribas        2010-07-28   \n",
       "165    Credit Suisse Hedging Griffo Cor Val S.A        2010-06-10   \n",
       "166    Credit Suisse Hedging Griffo Cor Val S.A        2010-06-10   \n",
       "167    Credit Suisse Hedging Griffo Cor Val S.A        2010-06-10   \n",
       "239    Credit Suisse Hedging Griffo Cor Val S.A        2010-08-04   \n",
       "...                                         ...               ...   \n",
       "18827  Credit Suisse Hedging Griffo Cor Val S.A        2016-10-25   \n",
       "18846                        Intrader Dtvm Ltda        2017-05-24   \n",
       "18855        Brookfield Brasil Asset Management        2019-07-04   \n",
       "18856        Brookfield Brasil Asset Management        2019-07-04   \n",
       "18857        Brookfield Brasil Asset Management        2019-07-04   \n",
       "\n",
       "       Res 3792/4661 (acc regul) Date of regulation FULL_TEXT  \n",
       "110                            1         2021-02-17         0  \n",
       "165                            0         2021-03-02         0  \n",
       "166                            0         2021-03-02         0  \n",
       "167                            0         2021-03-02         0  \n",
       "239                            0         2021-04-06         0  \n",
       "...                          ...                ...       ...  \n",
       "18827                          0         2016-11-01         0  \n",
       "18846                          0                  -         0  \n",
       "18855                          0                  -         0  \n",
       "18856                          0                  -         0  \n",
       "18857                          0                  -         0  \n",
       "\n",
       "[931 rows x 13 columns]"
      ]
     },
     "execution_count": 35,
     "metadata": {},
     "output_type": "execute_result"
    }
   ],
   "source": [
    "df[df['FULL_TEXT']==0]"
   ]
  },
  {
   "cell_type": "code",
   "execution_count": 32,
   "metadata": {
    "scrolled": true
   },
   "outputs": [
    {
     "data": {
      "image/png": "[encoded data removed]",
      "text/plain": [
       "<Figure size 432x288 with 1 Axes>"
      ]
     },
     "metadata": {
      "needs_background": "light"
     },
     "output_type": "display_data"
    }
   ],
   "source": [
    "ax = pd.to_numeric(df['FULL_TEXT']).plot.hist(bins=12, alpha=0.5)"
   ]
  },
  {
   "cell_type": "code",
   "execution_count": null,
   "metadata": {},
   "outputs": [],
   "source": [
    "import numpy as np\n",
    "import random\n",
    "from matplotlib import pyplot as plt\n",
    "\n",
    "data = list(df['FULL_TEXT'])\n",
    "\n",
    "# fixed bin size\n",
    "bins = np.arange(min(data), max(data), 15) # fixed bin size\n",
    "\n",
    "plt.xlim([min(data)-5, max(data)+5])\n",
    "\n",
    "plt.hist(data, bins=bins, alpha=0.5)\n",
    "plt.title('Random Gaussian data (fixed bin size)')\n",
    "plt.xlabel('variable X (bin size = 5)')\n",
    "plt.ylabel('count')\n",
    "\n",
    "plt.show()"
   ]
  },
  {
   "cell_type": "markdown",
   "metadata": {},
   "source": [
    "# removing white spaces, stop words and concating number to percentages"
   ]
  },
  {
   "cell_type": "code",
   "execution_count": 14,
   "metadata": {},
   "outputs": [],
   "source": [
    "# def cleaner_and_stopremover(text):\n",
    "# #     text=''.join(text)\n",
    "\n",
    "#     ctext=text.lower()\n",
    "# #     ctext=re.sub(r'\\n', r' ',ctext)\n",
    "#     ctext=re.sub(r'(\\d)\\s+(%)', r'\\1\\2',ctext)\n",
    "#     ctext=' '.join(ctext.split())\n",
    "\n",
    "#     nonstop=[]    \n",
    "#     for word in ctext.split():\n",
    "#         if word not in stopwords:\n",
    "#             nonstop.append(word)\n",
    "            \n",
    "# #     return ctext\n",
    "#     return ' '.join(nonstop)"
   ]
  },
  {
   "cell_type": "code",
   "execution_count": null,
   "metadata": {},
   "outputs": [],
   "source": [
    "\n",
    "# dfthousand=pd.read_json('./dfthousand_with_clean_text.json')\n",
    "# dfthousand['cleanfulltext']=[cleaner_and_stopremover(z) for z in dfthousand['fulltext']]\n",
    "df.to_json('./df_with_clean_text.json')"
   ]
  },
  {
   "cell_type": "code",
   "execution_count": 16,
   "metadata": {},
   "outputs": [],
   "source": [
    "X_train, X_test, y_train, y_test = train_test_split(dfthousand['cleanfulltext'], np.array(pd.get_dummies(dfthousand['fee'])), test_size=0.33, random_state=42)"
   ]
  },
  {
   "cell_type": "code",
   "execution_count": 18,
   "metadata": {},
   "outputs": [
    {
     "data": {
      "text/plain": [
       "(205, 71)"
      ]
     },
     "execution_count": 18,
     "metadata": {},
     "output_type": "execute_result"
    }
   ],
   "source": [
    "y_test.shape"
   ]
  },
  {
   "cell_type": "code",
   "execution_count": 20,
   "metadata": {},
   "outputs": [
    {
     "ename": "TypeError",
     "evalue": "Argument 'string' has incorrect type (expected str, got Series)",
     "output_type": "error",
     "traceback": [
      "\u001b[0;31m---------------------------------------------------------------------------\u001b[0m",
      "\u001b[0;31mTypeError\u001b[0m                                 Traceback (most recent call last)",
      "\u001b[0;32m<ipython-input-20-7f11248436f1>\u001b[0m in \u001b[0;36m<module>\u001b[0;34m\u001b[0m\n\u001b[1;32m      4\u001b[0m         \u001b[0mx_vec\u001b[0m\u001b[0;34m[\u001b[0m\u001b[0mwordidx\u001b[0m\u001b[0;34m]\u001b[0m\u001b[0;34m=\u001b[0m\u001b[0mword\u001b[0m\u001b[0;34m.\u001b[0m\u001b[0mvector\u001b[0m\u001b[0;34m\u001b[0m\u001b[0;34m\u001b[0m\u001b[0m\n\u001b[1;32m      5\u001b[0m \u001b[0;34m\u001b[0m\u001b[0m\n\u001b[0;32m----> 6\u001b[0;31m \u001b[0mx_2_vec\u001b[0m\u001b[0;34m(\u001b[0m\u001b[0mX_test\u001b[0m\u001b[0;34m)\u001b[0m\u001b[0;34m\u001b[0m\u001b[0;34m\u001b[0m\u001b[0m\n\u001b[0m\u001b[1;32m      7\u001b[0m \u001b[0;34m\u001b[0m\u001b[0m\n\u001b[1;32m      8\u001b[0m \u001b[0;32mdef\u001b[0m \u001b[0my_2_vec\u001b[0m\u001b[0;34m(\u001b[0m\u001b[0my\u001b[0m\u001b[0;34m)\u001b[0m\u001b[0;34m:\u001b[0m\u001b[0;34m\u001b[0m\u001b[0;34m\u001b[0m\u001b[0m\n",
      "\u001b[0;32m<ipython-input-20-7f11248436f1>\u001b[0m in \u001b[0;36mx_2_vec\u001b[0;34m(x)\u001b[0m\n\u001b[1;32m      1\u001b[0m \u001b[0;32mdef\u001b[0m \u001b[0mx_2_vec\u001b[0m\u001b[0;34m(\u001b[0m\u001b[0mx\u001b[0m\u001b[0;34m)\u001b[0m\u001b[0;34m:\u001b[0m\u001b[0;34m\u001b[0m\u001b[0;34m\u001b[0m\u001b[0m\n\u001b[1;32m      2\u001b[0m     \u001b[0mx_vec\u001b[0m\u001b[0;34m=\u001b[0m\u001b[0mnp\u001b[0m\u001b[0;34m.\u001b[0m\u001b[0mzeros\u001b[0m\u001b[0;34m(\u001b[0m\u001b[0;34m(\u001b[0m\u001b[0;36m24307\u001b[0m\u001b[0;34m,\u001b[0m\u001b[0;36m96\u001b[0m\u001b[0;34m)\u001b[0m\u001b[0;34m)\u001b[0m\u001b[0;34m\u001b[0m\u001b[0;34m\u001b[0m\u001b[0m\n\u001b[0;32m----> 3\u001b[0;31m     \u001b[0;32mfor\u001b[0m \u001b[0mwordidx\u001b[0m\u001b[0;34m,\u001b[0m \u001b[0mword\u001b[0m \u001b[0;32min\u001b[0m \u001b[0menumerate\u001b[0m\u001b[0;34m(\u001b[0m\u001b[0mnlp\u001b[0m\u001b[0;34m(\u001b[0m\u001b[0mx\u001b[0m\u001b[0;34m)\u001b[0m\u001b[0;34m)\u001b[0m\u001b[0;34m:\u001b[0m\u001b[0;34m\u001b[0m\u001b[0;34m\u001b[0m\u001b[0m\n\u001b[0m\u001b[1;32m      4\u001b[0m         \u001b[0mx_vec\u001b[0m\u001b[0;34m[\u001b[0m\u001b[0mwordidx\u001b[0m\u001b[0;34m]\u001b[0m\u001b[0;34m=\u001b[0m\u001b[0mword\u001b[0m\u001b[0;34m.\u001b[0m\u001b[0mvector\u001b[0m\u001b[0;34m\u001b[0m\u001b[0;34m\u001b[0m\u001b[0m\n\u001b[1;32m      5\u001b[0m \u001b[0;34m\u001b[0m\u001b[0m\n",
      "\u001b[0;32m~/anaconda3/envs/tensorflow/lib/python3.7/site-packages/spacy/language.py\u001b[0m in \u001b[0;36m__call__\u001b[0;34m(self, text, disable, component_cfg)\u001b[0m\n\u001b[1;32m    435\u001b[0m         \u001b[0mDOCS\u001b[0m\u001b[0;34m:\u001b[0m \u001b[0mhttps\u001b[0m\u001b[0;34m:\u001b[0m\u001b[0;34m//\u001b[0m\u001b[0mspacy\u001b[0m\u001b[0;34m.\u001b[0m\u001b[0mio\u001b[0m\u001b[0;34m/\u001b[0m\u001b[0mapi\u001b[0m\u001b[0;34m/\u001b[0m\u001b[0mlanguage\u001b[0m\u001b[0;31m#call\u001b[0m\u001b[0;34m\u001b[0m\u001b[0;34m\u001b[0m\u001b[0m\n\u001b[1;32m    436\u001b[0m         \"\"\"\n\u001b[0;32m--> 437\u001b[0;31m         \u001b[0mdoc\u001b[0m \u001b[0;34m=\u001b[0m \u001b[0mself\u001b[0m\u001b[0;34m.\u001b[0m\u001b[0mmake_doc\u001b[0m\u001b[0;34m(\u001b[0m\u001b[0mtext\u001b[0m\u001b[0;34m)\u001b[0m\u001b[0;34m\u001b[0m\u001b[0;34m\u001b[0m\u001b[0m\n\u001b[0m\u001b[1;32m    438\u001b[0m         \u001b[0;32mif\u001b[0m \u001b[0mcomponent_cfg\u001b[0m \u001b[0;32mis\u001b[0m \u001b[0;32mNone\u001b[0m\u001b[0;34m:\u001b[0m\u001b[0;34m\u001b[0m\u001b[0;34m\u001b[0m\u001b[0m\n\u001b[1;32m    439\u001b[0m             \u001b[0mcomponent_cfg\u001b[0m \u001b[0;34m=\u001b[0m \u001b[0;34m{\u001b[0m\u001b[0;34m}\u001b[0m\u001b[0;34m\u001b[0m\u001b[0;34m\u001b[0m\u001b[0m\n",
      "\u001b[0;32m~/anaconda3/envs/tensorflow/lib/python3.7/site-packages/spacy/language.py\u001b[0m in \u001b[0;36mmake_doc\u001b[0;34m(self, text)\u001b[0m\n\u001b[1;32m    465\u001b[0m                 \u001b[0mErrors\u001b[0m\u001b[0;34m.\u001b[0m\u001b[0mE088\u001b[0m\u001b[0;34m.\u001b[0m\u001b[0mformat\u001b[0m\u001b[0;34m(\u001b[0m\u001b[0mlength\u001b[0m\u001b[0;34m=\u001b[0m\u001b[0mlen\u001b[0m\u001b[0;34m(\u001b[0m\u001b[0mtext\u001b[0m\u001b[0;34m)\u001b[0m\u001b[0;34m,\u001b[0m \u001b[0mmax_length\u001b[0m\u001b[0;34m=\u001b[0m\u001b[0mself\u001b[0m\u001b[0;34m.\u001b[0m\u001b[0mmax_length\u001b[0m\u001b[0;34m)\u001b[0m\u001b[0;34m\u001b[0m\u001b[0;34m\u001b[0m\u001b[0m\n\u001b[1;32m    466\u001b[0m             )\n\u001b[0;32m--> 467\u001b[0;31m         \u001b[0;32mreturn\u001b[0m \u001b[0mself\u001b[0m\u001b[0;34m.\u001b[0m\u001b[0mtokenizer\u001b[0m\u001b[0;34m(\u001b[0m\u001b[0mtext\u001b[0m\u001b[0;34m)\u001b[0m\u001b[0;34m\u001b[0m\u001b[0;34m\u001b[0m\u001b[0m\n\u001b[0m\u001b[1;32m    468\u001b[0m \u001b[0;34m\u001b[0m\u001b[0m\n\u001b[1;32m    469\u001b[0m     \u001b[0;32mdef\u001b[0m \u001b[0m_format_docs_and_golds\u001b[0m\u001b[0;34m(\u001b[0m\u001b[0mself\u001b[0m\u001b[0;34m,\u001b[0m \u001b[0mdocs\u001b[0m\u001b[0;34m,\u001b[0m \u001b[0mgolds\u001b[0m\u001b[0;34m)\u001b[0m\u001b[0;34m:\u001b[0m\u001b[0;34m\u001b[0m\u001b[0;34m\u001b[0m\u001b[0m\n",
      "\u001b[0;31mTypeError\u001b[0m: Argument 'string' has incorrect type (expected str, got Series)"
     ]
    }
   ],
   "source": [
    "\n",
    "def x_2_vec(x):\n",
    "    x_vec=np.zeros((24307,96))\n",
    "    for wordidx, word in enumerate(nlp(x)):\n",
    "        x_vec[wordidx]=word.vector\n",
    "    \n",
    "x_2_vec(X_test)\n",
    "\n",
    "def y_2_vec(y):\n",
    "    \n",
    "    nlp(y).vector\n",
    "\n",
    "# y_train2vec=np.zeros((416,96))\n",
    "# for fileidx, file in enumerate(list(y_train.replace('-','não'))):\n",
    "    \n",
    "#     for wordidx ,word in enumerate(nlp(file)):\n",
    "#         y_train2vec[fileidx]=word.vector\n",
    "\n"
   ]
  },
  {
   "cell_type": "code",
   "execution_count": null,
   "metadata": {},
   "outputs": [],
   "source": [
    "print(len(X_train),len(X_test))"
   ]
  },
  {
   "cell_type": "code",
   "execution_count": 21,
   "metadata": {},
   "outputs": [],
   "source": [
    "X_train2vec=np.zeros((416,24307,96))\n",
    "\n",
    "for fileidx, file in enumerate(X_train):\n",
    "#     print(file)\n",
    "#     temp_np=np.zeros((len(file.split()),300))\n",
    "#     print(len(file.split()))\n",
    "    for wordidx ,word in enumerate(nlp(file)):\n",
    "#         print(word)\n",
    "# #         print(wordidx)\n",
    "        X_train2vec[fileidx][wordidx]=word.vector\n",
    "#     print(temp_np)\n",
    "#     print('------------------------')\n",
    "# #         print(j.vector.shape)\n",
    "np.save('./np_vecs/spacy/X_train', X_train2vec)\n",
    "\n"
   ]
  },
  {
   "cell_type": "code",
   "execution_count": 22,
   "metadata": {},
   "outputs": [],
   "source": [
    "X_test2vec=np.zeros((205,24307,96))\n",
    "\n",
    "for fileidx, file in enumerate(X_test):\n",
    "#     print(file)\n",
    "#     temp_np=np.zeros((len(file.split()),300))\n",
    "#     print(len(file.split()))\n",
    "    for wordidx ,word in enumerate(nlp(file)):\n",
    "#         print(word)\n",
    "# #         print(wordidx)\n",
    "        X_test2vec[fileidx][wordidx]=word.vector\n",
    "#     print(temp_np)\n",
    "#     print('------------------------')\n",
    "# #         print(j.vector.shape)\n",
    "np.save('./np_vecs/spacy/X_test', X_test2vec)"
   ]
  },
  {
   "cell_type": "code",
   "execution_count": 26,
   "metadata": {},
   "outputs": [],
   "source": [
    "# y_train2vec=np.zeros((416,96))\n",
    "# for fileidx, file in enumerate(list(y_train.replace('-','não'))):\n",
    "    \n",
    "#     for wordidx ,word in enumerate(nlp(file)):\n",
    "#         y_train2vec[fileidx]=word.vector\n",
    "        \n",
    "np.save('./np_vecs/spacy/y_train', y_train)\n",
    "    \n",
    "    \n",
    "# y_test2vec=np.zeros((205,96))\n",
    "# for fileidx, file in enumerate(list(y_test.replace('-','não'))):\n",
    "    \n",
    "#     for wordidx ,word in enumerate(nlp(file)):\n",
    "#         y_test2vec[fileidx]=word.vector\n",
    "        \n",
    "np.save('./np_vecs/spacy/y_test', y_test)"
   ]
  },
  {
   "cell_type": "code",
   "execution_count": null,
   "metadata": {},
   "outputs": [],
   "source": [
    "xa=np.array([1,2,30])\n",
    "ya=np.array([1,2,30])\n",
    "np.random.seed(42) \n",
    "np.random.shuffle(xa)\n",
    "np.random.shuffle(ya)\n",
    "print(xa,ya)"
   ]
  },
  {
   "cell_type": "code",
   "execution_count": null,
   "metadata": {},
   "outputs": [],
   "source": [
    "df =pd.DataFrame({'X':cleanfulltext2vec, 'Y':y2vec})"
   ]
  },
  {
   "cell_type": "code",
   "execution_count": null,
   "metadata": {},
   "outputs": [],
   "source": [
    "X_train, X_test, y_train, y_test = train_test_split(cleanfulltext2vec, y2vec, test_size=0.33, random_state=42)"
   ]
  },
  {
   "cell_type": "code",
   "execution_count": null,
   "metadata": {},
   "outputs": [],
   "source": [
    "np.save('./np_vecs/spacy/X_train', X_train)\n",
    "np.save('./np_vecs/spacy/X_test', X_test)\n",
    "np.save('./np_vecs/spacy/y_train', y_train)\n",
    "np.save('./np_vecs/spacy/y_test', y_test)"
   ]
  },
  {
   "cell_type": "code",
   "execution_count": null,
   "metadata": {},
   "outputs": [],
   "source": [
    "# np.save('./np_vecs/spacy/cleanfulltext2vec', cleanfulltext2vec)"
   ]
  }
 ],
 "metadata": {
  "kernelspec": {
   "display_name": "Python [conda env:tensorflow] *",
   "language": "python",
   "name": "conda-env-tensorflow-py"
  },
  "language_info": {
   "codemirror_mode": {
    "name": "ipython",
    "version": 3
   },
   "file_extension": ".py",
   "mimetype": "text/x-python",
   "name": "python",
   "nbconvert_exporter": "python",
   "pygments_lexer": "ipython3",
   "version": "3.7.9"
  }
 },
 "nbformat": 4,
 "nbformat_minor": 2
}
