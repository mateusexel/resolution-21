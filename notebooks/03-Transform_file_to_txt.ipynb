{
 "cells": [
  {
   "cell_type": "code",
   "execution_count": 1,
   "metadata": {},
   "outputs": [],
   "source": [
    "import io\n",
    "import glob\n",
    "import pdfminer\n",
    "from pdfminer.pdfinterp import PDFResourceManager, PDFPageInterpreter\n",
    "from pdfminer.converter import TextConverter\n",
    "from pdfminer.layout import LAParams\n",
    "from pdfminer.pdfpage import PDFPage\n",
    "from pdfminer.pdfdocument import PDFEncryptionError, PDFSyntaxError\n",
    "from Crypto.Cipher import AES\n",
    "import os\n",
    "import sys, getopt\n",
    "import pandas as pd\n",
    "import re\n",
    "from docx import Document\n",
    "import os"
   ]
  },
  {
   "cell_type": "markdown",
   "metadata": {},
   "source": [
    "# ConvertMultiple\n",
    "Files uploaded by the administrator are either PDF or DOC.\n",
    "All DOC files are converted to DOCX because DOCX is an open standard while DOC is proprietary. docx library was used for that.\n",
    "The best library to handle pdf files is pdfminer.six, which is a community maintained fork of the original PDFMiner. It is a tool for extracting information from PDF documents focused on getting and analyzing text data.\n",
    "\n",
    "First step of convertMultiple is to check what files are not converted, files that exist on all_files but not on converted. Secondly the file extension is used to choose on which function the file will go through convertDocx or convertPdf. \n",
    "convertPdf may throw some errors in case the files needs a password or it was corrupted, for that we have 2 exceptions"
   ]
  },
  {
   "cell_type": "code",
   "execution_count": 1,
   "metadata": {},
   "outputs": [],
   "source": [
    "from util import transform_file_to_txt"
   ]
  },
  {
   "cell_type": "code",
   "execution_count": 2,
   "metadata": {},
   "outputs": [],
   "source": [
    "transform_file_to_txt.convert_doc('../data/teste/pdf/')"
   ]
  },
  {
   "cell_type": "code",
   "execution_count": 2,
   "metadata": {},
   "outputs": [],
   "source": [
    "transform_file_to_txt.convertmultiple('../data/teste/pdf/', '../data/teste/text/')"
   ]
  },
  {
   "cell_type": "code",
   "execution_count": 2,
   "metadata": {},
   "outputs": [
    {
     "data": {
      "text/plain": [
       "0"
      ]
     },
     "execution_count": 2,
     "metadata": {},
     "output_type": "execute_result"
    }
   ],
   "source": [
    "os.chdir('/media/mateus/F384-E080/fee/pdf2/')\n",
    "os.system('lowriter --convert-to docx *.doc')\n",
    "os.system('lowriter --convert-to docx *.DOC')\n",
    "os.system('rm *.doc')\n",
    "os.system('rm *.DOC')"
   ]
  },
  {
   "cell_type": "code",
   "execution_count": 1,
   "metadata": {
    "scrolled": true
   },
   "outputs": [
    {
     "ename": "NameError",
     "evalue": "name 'os' is not defined",
     "output_type": "error",
     "traceback": [
      "\u001b[0;31m---------------------------------------------------------------------------\u001b[0m",
      "\u001b[0;31mNameError\u001b[0m                                 Traceback (most recent call last)",
      "\u001b[0;32m<ipython-input-1-ebd218d25a0f>\u001b[0m in \u001b[0;36m<module>\u001b[0;34m\u001b[0m\n\u001b[1;32m     79\u001b[0m \u001b[0mfileDir\u001b[0m \u001b[0;34m=\u001b[0m \u001b[0;34m\"/media/mateus/F384-E080/fee/pdf2/\"\u001b[0m\u001b[0;34m\u001b[0m\u001b[0;34m\u001b[0m\u001b[0m\n\u001b[1;32m     80\u001b[0m \u001b[0mtxtDir\u001b[0m \u001b[0;34m=\u001b[0m \u001b[0;34m\"/media/mateus/F384-E080/fee/txt2/\"\u001b[0m\u001b[0;34m\u001b[0m\u001b[0;34m\u001b[0m\u001b[0m\n\u001b[0;32m---> 81\u001b[0;31m \u001b[0mconvertMultiple\u001b[0m\u001b[0;34m(\u001b[0m\u001b[0mfileDir\u001b[0m\u001b[0;34m,\u001b[0m \u001b[0mtxtDir\u001b[0m\u001b[0;34m)\u001b[0m\u001b[0;34m\u001b[0m\u001b[0;34m\u001b[0m\u001b[0m\n\u001b[0m",
      "\u001b[0;32m<ipython-input-1-ebd218d25a0f>\u001b[0m in \u001b[0;36mconvertMultiple\u001b[0;34m(fileDir, txtDir)\u001b[0m\n\u001b[1;32m     35\u001b[0m \u001b[0;32mdef\u001b[0m \u001b[0mconvertMultiple\u001b[0m\u001b[0;34m(\u001b[0m\u001b[0mfileDir\u001b[0m\u001b[0;34m,\u001b[0m \u001b[0mtxtDir\u001b[0m\u001b[0;34m)\u001b[0m\u001b[0;34m:\u001b[0m\u001b[0;34m\u001b[0m\u001b[0;34m\u001b[0m\u001b[0m\n\u001b[1;32m     36\u001b[0m \u001b[0;34m\u001b[0m\u001b[0m\n\u001b[0;32m---> 37\u001b[0;31m     \u001b[0mall_files\u001b[0m \u001b[0;34m=\u001b[0m \u001b[0;34m[\u001b[0m\u001b[0;34m\".\"\u001b[0m\u001b[0;34m.\u001b[0m\u001b[0mjoin\u001b[0m\u001b[0;34m(\u001b[0m\u001b[0mf\u001b[0m\u001b[0;34m.\u001b[0m\u001b[0msplit\u001b[0m\u001b[0;34m(\u001b[0m\u001b[0;34m\".\"\u001b[0m\u001b[0;34m)\u001b[0m\u001b[0;34m[\u001b[0m\u001b[0;34m:\u001b[0m\u001b[0;34m-\u001b[0m\u001b[0;36m1\u001b[0m\u001b[0;34m]\u001b[0m\u001b[0;34m)\u001b[0m \u001b[0;32mfor\u001b[0m \u001b[0mf\u001b[0m \u001b[0;32min\u001b[0m \u001b[0mos\u001b[0m\u001b[0;34m.\u001b[0m\u001b[0mlistdir\u001b[0m\u001b[0;34m(\u001b[0m\u001b[0mfileDir\u001b[0m\u001b[0;34m)\u001b[0m\u001b[0;34m]\u001b[0m\u001b[0;34m\u001b[0m\u001b[0;34m\u001b[0m\u001b[0m\n\u001b[0m\u001b[1;32m     38\u001b[0m     \u001b[0mconverted_files\u001b[0m \u001b[0;34m=\u001b[0m \u001b[0;34m[\u001b[0m\u001b[0;34m\".\"\u001b[0m\u001b[0;34m.\u001b[0m\u001b[0mjoin\u001b[0m\u001b[0;34m(\u001b[0m\u001b[0mf\u001b[0m\u001b[0;34m.\u001b[0m\u001b[0msplit\u001b[0m\u001b[0;34m(\u001b[0m\u001b[0;34m\".\"\u001b[0m\u001b[0;34m)\u001b[0m\u001b[0;34m[\u001b[0m\u001b[0;34m:\u001b[0m\u001b[0;34m-\u001b[0m\u001b[0;36m1\u001b[0m\u001b[0;34m]\u001b[0m\u001b[0;34m)\u001b[0m \u001b[0;32mfor\u001b[0m \u001b[0mf\u001b[0m \u001b[0;32min\u001b[0m \u001b[0mos\u001b[0m\u001b[0;34m.\u001b[0m\u001b[0mlistdir\u001b[0m\u001b[0;34m(\u001b[0m\u001b[0mtxtDir\u001b[0m\u001b[0;34m)\u001b[0m\u001b[0;34m]\u001b[0m\u001b[0;34m\u001b[0m\u001b[0;34m\u001b[0m\u001b[0m\n\u001b[1;32m     39\u001b[0m     \u001b[0mnot_converted_files\u001b[0m \u001b[0;34m=\u001b[0m \u001b[0;34m[\u001b[0m\u001b[0mf\u001b[0m \u001b[0;32mfor\u001b[0m \u001b[0mf\u001b[0m \u001b[0;32min\u001b[0m \u001b[0mall_files\u001b[0m \u001b[0;32mif\u001b[0m \u001b[0mf\u001b[0m \u001b[0;32mnot\u001b[0m \u001b[0;32min\u001b[0m \u001b[0mconverted_files\u001b[0m\u001b[0;34m]\u001b[0m\u001b[0;34m\u001b[0m\u001b[0;34m\u001b[0m\u001b[0m\n",
      "\u001b[0;31mNameError\u001b[0m: name 'os' is not defined"
     ]
    }
   ],
   "source": [
    "#converts pdf, returns its text content as a string\n",
    "def convertPdf(fname):\n",
    "    \n",
    "    pagenums=set()\n",
    "    output = io.StringIO()\n",
    "    manager = PDFResourceManager()\n",
    "    laparams = LAParams()\n",
    "    password=\"''\"\n",
    "    \n",
    "    converter = TextConverter(manager, output, laparams=laparams)\n",
    "    interpreter = PDFPageInterpreter(manager, converter)\n",
    "\n",
    "    infile = open(fname, 'rb')\n",
    "    \n",
    "    \n",
    "    for page in PDFPage.get_pages(infile, pagenums, password = password, check_extractable = False):\n",
    "\n",
    "        interpreter.process_page(page)\n",
    "        \n",
    "    infile.close()\n",
    "    converter.close()\n",
    "    text = output.getvalue()\n",
    "    \n",
    "    output.close()\n",
    "    return text \n",
    "\n",
    "def convertDocx(fname):\n",
    "    document = Document(fname)\n",
    "    for para in document.paragraphs:\n",
    "        text += str(para.text)+'/n' \n",
    "    return text\n",
    "\n",
    "\n",
    "\n",
    "def convertMultiple(fileDir, txtDir):\n",
    "    \n",
    "    all_files = [\".\".join(f.split(\".\")[:-1]) for f in os.listdir(fileDir)]\n",
    "    converted_files = [\".\".join(f.split(\".\")[:-1]) for f in os.listdir(txtDir)]\n",
    "    not_converted_files = [f for f in all_files if f not in converted_files]\n",
    "    \n",
    "    files_list = glob.glob(fileDir+\"/*\")\n",
    "\n",
    "    \n",
    "    for file_name in not_converted_files: #iterate through pdfs in pdf directory\n",
    "        \n",
    "        full_file_name = [s for s in files_list if file_name in s][0]\n",
    "        fileExtension = full_file_name.split(\".\")[-1]\n",
    "        \n",
    "        if fileExtension.lower() == \"pdf\":\n",
    "\n",
    "            try:\n",
    "                text = convertPdf(full_file_name)\n",
    "\n",
    "            except PDFEncryptionError as e :\n",
    "                command = f\"qpdf --password={''} --decrypt {full_file_name} {full_file_name[:-4]}D.pdf;\"\n",
    "                os.system(command)\n",
    "                text = convertPdf(full_file_name[:-4]+'D.pdf')\n",
    "            \n",
    "            except PDFSyntaxError:\n",
    "                print('PDFSyntaxError')\n",
    "                next\n",
    "                \n",
    "                \n",
    "        elif fileExtension == \"docx\":\n",
    "            \n",
    "            text = convertDocx(full_file_name)\n",
    "            \n",
    "        else:\n",
    "            print(fileExtension)\n",
    "            next\n",
    "            \n",
    "        textFilename = txtDir+file_name+ \".txt\"\n",
    "        textFile = open(textFilename, \"w\") \n",
    "        \n",
    "        textFile.write(text)\n",
    "        textFile.close()\n",
    "\n",
    "\n",
    "fileDir = \"/media/mateus/F384-E080/fee/pdf2/\"\n",
    "txtDir = \"/media/mateus/F384-E080/fee/txt2/\"\n",
    "convertMultiple(fileDir, txtDir)"
   ]
  }
 ],
 "metadata": {
  "kernelspec": {
   "display_name": "Python 3",
   "language": "python",
   "name": "python3"
  },
  "language_info": {
   "codemirror_mode": {
    "name": "ipython",
    "version": 3
   },
   "file_extension": ".py",
   "mimetype": "text/x-python",
   "name": "python",
   "nbconvert_exporter": "python",
   "pygments_lexer": "ipython3",
   "version": "3.7.9"
  }
 },
 "nbformat": 4,
 "nbformat_minor": 4
}
