{
 "cells": [
  {
   "cell_type": "code",
   "execution_count": 1,
   "metadata": {},
   "outputs": [],
   "source": [
    "import pandas as pd\n",
    "import numpy as np"
   ]
  },
  {
   "cell_type": "markdown",
   "metadata": {},
   "source": [
    "# Reading and merging data from CVM\n",
    "CVM is brazilians securities commission. \n",
    "On their website (http://dados.cvm.gov.br/dataset/fi-doc-eventual) you can find files that encapsulate all the reports sent by fund managers through the years. The files features are: fund type, employer ID number, fund name, document competence date, date of receipt of the document, link to download the file, file name and document type.\n",
    "\n",
    "Files from 2015 to 04-26-2021 were appended."
   ]
  },
  {
   "cell_type": "code",
   "execution_count": 2,
   "metadata": {},
   "outputs": [],
   "source": [
    "dfcvm = pd.read_excel('../data/portal_data/eventual_fi_2021.xls')\n",
    "dfcvm = dfcvm.append(pd.read_excel('../data/portal_data/eventual_fi_2020.xls'))\n",
    "dfcvm = dfcvm.append(pd.read_excel('../data/portal_data/eventual_fi_2019.xls'))\n",
    "dfcvm = dfcvm.append(pd.read_excel('../data/portal_data/eventual_fi_2018.xls'))\n",
    "dfcvm = dfcvm.append(pd.read_excel('../data/portal_data/eventual_fi_2017.xls'))\n",
    "dfcvm = dfcvm.append(pd.read_excel('../data/portal_data/eventual_fi_2016.xls'))\n",
    "dfcvm = dfcvm.append(pd.read_excel('../data/portal_data/eventual_fi_2015.xls'))\n",
    "\n",
    "dfcvm = dfcvm.reset_index(drop=True)"
   ]
  },
  {
   "cell_type": "markdown",
   "metadata": {},
   "source": [
    "Usefull columns"
   ]
  },
  {
   "cell_type": "code",
   "execution_count": 3,
   "metadata": {},
   "outputs": [],
   "source": [
    "dfcvm=dfcvm[[ 'CNPJ_FUNDO', 'DENOM_SOCIAL', 'DT_COMPTC', 'TP_DOC', 'NM_ARQ', 'LINK_ARQ']]"
   ]
  },
  {
   "cell_type": "code",
   "execution_count": 4,
   "metadata": {},
   "outputs": [
    {
     "data": {
      "text/plain": [
       "(325736, 6)"
      ]
     },
     "execution_count": 4,
     "metadata": {},
     "output_type": "execute_result"
    }
   ],
   "source": [
    "dfcvm.shape"
   ]
  },
  {
   "cell_type": "markdown",
   "metadata": {},
   "source": [
    "# Reading Economatica data\n",
    "Economatica is an investment platform. A table was created on their platform with the target values we want to explore."
   ]
  },
  {
   "cell_type": "code",
   "execution_count": 4,
   "metadata": {},
   "outputs": [],
   "source": [
    "dfeco=pd.read_csv('../data/economatica_04-26-20.csv', index_col=0 )\n",
    "dfeco.columns = [i.replace('\\n',' ') for i in dfeco.columns]"
   ]
  },
  {
   "cell_type": "markdown",
   "metadata": {},
   "source": [
    "Usefull columns"
   ]
  },
  {
   "cell_type": "code",
   "execution_count": 5,
   "metadata": {},
   "outputs": [
    {
     "data": {
      "text/html": [
       "<div>\n",
       "<style scoped>\n",
       "    .dataframe tbody tr th:only-of-type {\n",
       "        vertical-align: middle;\n",
       "    }\n",
       "\n",
       "    .dataframe tbody tr th {\n",
       "        vertical-align: top;\n",
       "    }\n",
       "\n",
       "    .dataframe thead th {\n",
       "        text-align: right;\n",
       "    }\n",
       "</style>\n",
       "<table border=\"1\" class=\"dataframe\">\n",
       "  <thead>\n",
       "    <tr style=\"text-align: right;\">\n",
       "      <th></th>\n",
       "      <th>Name</th>\n",
       "      <th>Employer ID number</th>\n",
       "      <th>Administrator</th>\n",
       "      <th>Series Start Date</th>\n",
       "      <th>Res 3792/4661 (acc regul)</th>\n",
       "      <th>Date of regulation</th>\n",
       "    </tr>\n",
       "  </thead>\n",
       "  <tbody>\n",
       "    <tr>\n",
       "      <th>1</th>\n",
       "      <td>051 Acoes FIA</td>\n",
       "      <td>34172417000153</td>\n",
       "      <td>BTG Pactual Servicos Financeiros SA Dtvm</td>\n",
       "      <td>2019-08-22</td>\n",
       "      <td>-</td>\n",
       "      <td>2020-10-27</td>\n",
       "    </tr>\n",
       "    <tr>\n",
       "      <th>2</th>\n",
       "      <td>051 Allocation FICFI Mult Cred Priv</td>\n",
       "      <td>36016411000112</td>\n",
       "      <td>BTG Pactual Servicos Financeiros SA Dtvm</td>\n",
       "      <td>2020-06-16</td>\n",
       "      <td>-</td>\n",
       "      <td>2020-07-28</td>\n",
       "    </tr>\n",
       "    <tr>\n",
       "      <th>3</th>\n",
       "      <td>051 Alocacao Acoes FIA</td>\n",
       "      <td>36498260000186</td>\n",
       "      <td>BTG Pactual Servicos Financeiros SA Dtvm</td>\n",
       "      <td>2020-11-27</td>\n",
       "      <td>-</td>\n",
       "      <td>2020-12-08</td>\n",
       "    </tr>\n",
       "    <tr>\n",
       "      <th>4</th>\n",
       "      <td>051 Alocacao Moder FICFI Mult Cred Priv</td>\n",
       "      <td>36498567000187</td>\n",
       "      <td>BTG Pactual Servicos Financeiros SA Dtvm</td>\n",
       "      <td>2020-06-16</td>\n",
       "      <td>-</td>\n",
       "      <td>2021-01-28</td>\n",
       "    </tr>\n",
       "    <tr>\n",
       "      <th>5</th>\n",
       "      <td>051 Blue Marlin Fc FI Mult Cred Priv Ie</td>\n",
       "      <td>3998582000135</td>\n",
       "      <td>Credit Suisse Hedging Griffo Cor Val S.A</td>\n",
       "      <td>2015-03-31</td>\n",
       "      <td>-</td>\n",
       "      <td>2020-09-29</td>\n",
       "    </tr>\n",
       "  </tbody>\n",
       "</table>\n",
       "</div>"
      ],
      "text/plain": [
       "                                      Name  Employer ID number  \\\n",
       "1                            051 Acoes FIA      34172417000153   \n",
       "2      051 Allocation FICFI Mult Cred Priv      36016411000112   \n",
       "3                   051 Alocacao Acoes FIA      36498260000186   \n",
       "4  051 Alocacao Moder FICFI Mult Cred Priv      36498567000187   \n",
       "5  051 Blue Marlin Fc FI Mult Cred Priv Ie       3998582000135   \n",
       "\n",
       "                              Administrator Series Start Date  \\\n",
       "1  BTG Pactual Servicos Financeiros SA Dtvm        2019-08-22   \n",
       "2  BTG Pactual Servicos Financeiros SA Dtvm        2020-06-16   \n",
       "3  BTG Pactual Servicos Financeiros SA Dtvm        2020-11-27   \n",
       "4  BTG Pactual Servicos Financeiros SA Dtvm        2020-06-16   \n",
       "5  Credit Suisse Hedging Griffo Cor Val S.A        2015-03-31   \n",
       "\n",
       "  Res 3792/4661 (acc regul) Date of regulation  \n",
       "1                         -         2020-10-27  \n",
       "2                         -         2020-07-28  \n",
       "3                         -         2020-12-08  \n",
       "4                         -         2021-01-28  \n",
       "5                         -         2020-09-29  "
      ]
     },
     "execution_count": 5,
     "metadata": {},
     "output_type": "execute_result"
    }
   ],
   "source": [
    "dfeco = dfeco[['Name', 'Employer ID number', 'Administrator', 'Series Start Date', 'Res 3792/4661 (acc regul)', 'Date of regulation']]\n",
    "dfeco.head()"
   ]
  },
  {
   "cell_type": "markdown",
   "metadata": {},
   "source": [
    "## Cleaning Data\n",
    "There are many different types of documents, we are only interested on \"REGUL FDO\"\n",
    "\n",
    "CNPJ to be cleared from special characters\n",
    "\n",
    "funds with no file will be useless\n",
    "\n",
    "Employer ID number also has to be str"
   ]
  },
  {
   "cell_type": "code",
   "execution_count": 6,
   "metadata": {},
   "outputs": [],
   "source": [
    "dfcvm = dfcvm[dfcvm['TP_DOC']=='REGUL FDO']\n",
    "dfcvm['CNPJ_FUNDO'] = dfcvm['CNPJ_FUNDO'].str.replace('[^0-9]','')\n",
    "dfcvm.dropna(subset=['NM_ARQ'], inplace=True)\n",
    "dfeco['Employer ID number'] = dfeco['Employer ID number'].astype(str)"
   ]
  },
  {
   "cell_type": "markdown",
   "metadata": {},
   "source": [
    "# Rebalancing\n",
    "There are many more funds that dont follow the resolution, rebalamcing was needed\n",
    "\n",
    "Economatica has the resolution status on the present day, not from past reports. Research with specialists showed that funds don't usually change its status (98%).\n",
    "\n",
    "To decrease the imbalance of our binomial distribution we decided to extend the status of the present report to  past documnets.\n",
    "\n"
   ]
  },
  {
   "cell_type": "code",
   "execution_count": 7,
   "metadata": {},
   "outputs": [],
   "source": [
    "cont0, count1, cont_undefinde = dfeco['Res 3792/4661 (acc regul)'].value_counts()"
   ]
  },
  {
   "cell_type": "code",
   "execution_count": 8,
   "metadata": {},
   "outputs": [],
   "source": [
    "df_class0 = dfeco[dfeco['Res 3792/4661 (acc regul)']=='-']\n",
    "df_class1 = dfeco[dfeco['Res 3792/4661 (acc regul)']=='Yes']"
   ]
  },
  {
   "cell_type": "code",
   "execution_count": 9,
   "metadata": {},
   "outputs": [],
   "source": [
    "df_class0_under = df_class0.sample(count1, random_state=42)"
   ]
  },
  {
   "cell_type": "code",
   "execution_count": 10,
   "metadata": {},
   "outputs": [],
   "source": [
    "dfeco = pd.concat([df_class0_under, df_class1], axis=0)"
   ]
  },
  {
   "cell_type": "markdown",
   "metadata": {},
   "source": [
    "# Merging\n",
    "with the premise that an Employer ID that follows Res 4661 has always followed it, the merge will happend only on CNPJ/EmployerID"
   ]
  },
  {
   "cell_type": "code",
   "execution_count": 11,
   "metadata": {},
   "outputs": [],
   "source": [
    "cvm_and_eco = pd.merge(dfcvm, dfeco, how='inner', left_on=['CNPJ_FUNDO'], right_on=['Employer ID number'])"
   ]
  },
  {
   "cell_type": "markdown",
   "metadata": {},
   "source": [
    "## Fixing Target\n",
    "used a dictionary com clean target to ones and zeros"
   ]
  },
  {
   "cell_type": "code",
   "execution_count": 12,
   "metadata": {},
   "outputs": [],
   "source": [
    "d = dict(zip(cvm_and_eco['Res 3792/4661 (acc regul)'].unique(),[1,0]))"
   ]
  },
  {
   "cell_type": "code",
   "execution_count": 13,
   "metadata": {},
   "outputs": [],
   "source": [
    "cvm_and_eco['Res 3792/4661 (acc regul)'] = [d[i] for i in cvm_and_eco['Res 3792/4661 (acc regul)']]"
   ]
  },
  {
   "cell_type": "markdown",
   "metadata": {},
   "source": [
    "## Analyses\n",
    "Transforming complex files to plain will have total different routes depending on the type of file"
   ]
  },
  {
   "cell_type": "code",
   "execution_count": 14,
   "metadata": {},
   "outputs": [
    {
     "name": "stdout",
     "output_type": "stream",
     "text": [
      "pdf 16707\n",
      "doc 2178\n",
      "other 0\n"
     ]
    }
   ],
   "source": [
    "doc=0\n",
    "pdf=0\n",
    "other=0\n",
    "for i in list(cvm_and_eco['NM_ARQ']):\n",
    "    if i[-3:].upper()=='DOC':\n",
    "        doc+=1\n",
    "    elif i[-3:].upper()=='PDF':\n",
    "        pdf+=1\n",
    "    else:\n",
    "        print(i[-3:])\n",
    "        \n",
    "print('pdf',pdf)\n",
    "print('doc',doc)\n",
    "print('other',other)"
   ]
  },
  {
   "cell_type": "markdown",
   "metadata": {},
   "source": [
    "It is expected that files with the sabe Administrator will be simmilar"
   ]
  },
  {
   "cell_type": "code",
   "execution_count": 15,
   "metadata": {},
   "outputs": [
    {
     "data": {
      "text/plain": [
       "Bem Dtvm                                    2496\n",
       "BNY Mellon Servicos Financeiros Dtvm SA     2473\n",
       "BTG Pactual Servicos Financeiros SA Dtvm    1419\n",
       "Intrag                                      1379\n",
       "Itau Unibanco SA                            1115\n",
       "Singulare Corretora de Titulos e Valores     881\n",
       "Santander Caceis Brasil Dtvm SA              796\n",
       "Bradesco                                     726\n",
       "-                                            662\n",
       "Credit Suisse Hedging Griffo Cor Val S.A     659\n",
       "Safra Servicos de Adm Fiduciaria             579\n",
       "Banco Santander (Brasil) SA                  569\n",
       "BB Dtvm S.A                                  529\n",
       "BNP Paribas                                  505\n",
       "Brl Dtvm                                     501\n",
       "Name: Administrator, dtype: int64"
      ]
     },
     "execution_count": 15,
     "metadata": {},
     "output_type": "execute_result"
    }
   ],
   "source": [
    "cvm_and_eco['Administrator'].value_counts()[:15]"
   ]
  },
  {
   "cell_type": "markdown",
   "metadata": {},
   "source": [
    "# Create a df with one of each Administrator"
   ]
  },
  {
   "cell_type": "code",
   "execution_count": 18,
   "metadata": {},
   "outputs": [],
   "source": [
    "administrator_df = cvm_and_eco.drop_duplicates(subset=['Administrator'])"
   ]
  },
  {
   "cell_type": "code",
   "execution_count": 19,
   "metadata": {},
   "outputs": [],
   "source": [
    "administrator_df.to_json('../data/administrator_df.json')"
   ]
  },
  {
   "cell_type": "markdown",
   "metadata": {},
   "source": [
    "## Now we have a Data Frame with all the info we needed to download the files and and find Target"
   ]
  },
  {
   "cell_type": "code",
   "execution_count": null,
   "metadata": {},
   "outputs": [],
   "source": [
    "cvm_and_eco.to_json('../data/cvm_merge_eco.json')"
   ]
  }
 ],
 "metadata": {
  "kernelspec": {
   "display_name": "Python 3",
   "language": "python",
   "name": "python3"
  },
  "language_info": {
   "codemirror_mode": {
    "name": "ipython",
    "version": 3
   },
   "file_extension": ".py",
   "mimetype": "text/x-python",
   "name": "python",
   "nbconvert_exporter": "python",
   "pygments_lexer": "ipython3",
   "version": "3.7.9"
  }
 },
 "nbformat": 4,
 "nbformat_minor": 2
}
