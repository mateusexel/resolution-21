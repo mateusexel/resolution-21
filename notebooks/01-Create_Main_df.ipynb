{
 "cells": [
  {
   "cell_type": "code",
   "execution_count": 1,
   "metadata": {},
   "outputs": [],
   "source": [
    "import pandas as pd"
   ]
  },
  {
   "cell_type": "code",
   "execution_count": 3,
   "metadata": {},
   "outputs": [],
   "source": [
    "from util import creating_main_df as func"
   ]
  },
  {
   "cell_type": "markdown",
   "metadata": {},
   "source": [
    "# Reading and merging data from CVM\n",
    "CVM is brazilians securities commission. \n",
    "On their website (http://dados.cvm.gov.br/dataset/fi-doc-eventual) you can find files that encapsulate all the reports sent by fund managers through the years. The files features are: fund type, employer ID number, fund name, document competence date, date of receipt of the document, link to download the file, file name and document type.\n",
    "\n",
    "Files from 2015 to 04-26-2021 were appended."
   ]
  },
  {
   "cell_type": "code",
   "execution_count": 9,
   "metadata": {
    "scrolled": false
   },
   "outputs": [
    {
     "data": {
      "text/html": [
       "<div>\n",
       "<style scoped>\n",
       "    .dataframe tbody tr th:only-of-type {\n",
       "        vertical-align: middle;\n",
       "    }\n",
       "\n",
       "    .dataframe tbody tr th {\n",
       "        vertical-align: top;\n",
       "    }\n",
       "\n",
       "    .dataframe thead th {\n",
       "        text-align: right;\n",
       "    }\n",
       "</style>\n",
       "<table border=\"1\" class=\"dataframe\">\n",
       "  <thead>\n",
       "    <tr style=\"text-align: right;\">\n",
       "      <th></th>\n",
       "      <th>TP_FUNDO</th>\n",
       "      <th>CNPJ_FUNDO</th>\n",
       "      <th>DENOM_SOCIAL</th>\n",
       "      <th>DT_COMPTC</th>\n",
       "      <th>DT_RECEB</th>\n",
       "      <th>TP_DOC</th>\n",
       "      <th>NM_ARQ</th>\n",
       "      <th>ID_DOC</th>\n",
       "      <th>LINK_ARQ</th>\n",
       "    </tr>\n",
       "  </thead>\n",
       "  <tbody>\n",
       "    <tr>\n",
       "      <th>0</th>\n",
       "      <td>FAPI</td>\n",
       "      <td>02.010.153/0001-45</td>\n",
       "      <td>BB FAPI FUNDO DE APOSENTADORIA PROGRAMADA INDI...</td>\n",
       "      <td>2019-12-31</td>\n",
       "      <td>2020-03-10</td>\n",
       "      <td>DEMONST CONTAB</td>\n",
       "      <td>20200310113210UP3f6ecb6624c745658f8a34ab64ac61...</td>\n",
       "      <td>NaN</td>\n",
       "      <td>http://sistemas.cvm.gov.br/docsrecebidos/20200...</td>\n",
       "    </tr>\n",
       "    <tr>\n",
       "      <th>1</th>\n",
       "      <td>FAPI</td>\n",
       "      <td>02.177.812/0001-32</td>\n",
       "      <td>ITAU FAPI RENDA FIXA - FUNDO DE APOSENTADORIA ...</td>\n",
       "      <td>2019-12-31</td>\n",
       "      <td>2020-03-02</td>\n",
       "      <td>DEMONST CONTAB</td>\n",
       "      <td>20200302164007UPcc7ca8cbfba1412d897304b1bf2c5e...</td>\n",
       "      <td>NaN</td>\n",
       "      <td>http://sistemas.cvm.gov.br/docsrecebidos/20200...</td>\n",
       "    </tr>\n",
       "    <tr>\n",
       "      <th>2</th>\n",
       "      <td>FAPI</td>\n",
       "      <td>02.177.815/0001-76</td>\n",
       "      <td>ITAU FAPI CONSERVADOR - FUNDO DE APOSENTADORIA...</td>\n",
       "      <td>2019-12-31</td>\n",
       "      <td>2020-03-02</td>\n",
       "      <td>DEMONST CONTAB</td>\n",
       "      <td>20200302164106UP951351fb8bfb45e7a7d55d575c4c78...</td>\n",
       "      <td>NaN</td>\n",
       "      <td>http://sistemas.cvm.gov.br/docsrecebidos/20200...</td>\n",
       "    </tr>\n",
       "    <tr>\n",
       "      <th>3</th>\n",
       "      <td>FAPI</td>\n",
       "      <td>02.185.027/0001-21</td>\n",
       "      <td>BRADESCO FUNDO DE APOSENTADORIA PROGRAMADA IND...</td>\n",
       "      <td>2019-12-31</td>\n",
       "      <td>2020-03-13</td>\n",
       "      <td>DEMONST CONTAB</td>\n",
       "      <td>20200313164431UP2bca9fcb3cfe4cefa5c82eaa61503f...</td>\n",
       "      <td>NaN</td>\n",
       "      <td>http://sistemas.cvm.gov.br/docsrecebidos/20200...</td>\n",
       "    </tr>\n",
       "    <tr>\n",
       "      <th>4</th>\n",
       "      <td>FAPI</td>\n",
       "      <td>02.226.122/0001-26</td>\n",
       "      <td>UNIBANCO FUNDO DE APOSENTADORIA PROGRAMADA IND...</td>\n",
       "      <td>2019-12-31</td>\n",
       "      <td>2020-02-28</td>\n",
       "      <td>DEMONST CONTAB</td>\n",
       "      <td>20200228185716UP88e6134308c3488884a0e3005b0926...</td>\n",
       "      <td>NaN</td>\n",
       "      <td>http://sistemas.cvm.gov.br/docsrecebidos/20200...</td>\n",
       "    </tr>\n",
       "    <tr>\n",
       "      <th>...</th>\n",
       "      <td>...</td>\n",
       "      <td>...</td>\n",
       "      <td>...</td>\n",
       "      <td>...</td>\n",
       "      <td>...</td>\n",
       "      <td>...</td>\n",
       "      <td>...</td>\n",
       "      <td>...</td>\n",
       "      <td>...</td>\n",
       "    </tr>\n",
       "    <tr>\n",
       "      <th>14138</th>\n",
       "      <td>FUNCINE</td>\n",
       "      <td>10.500.895/0001-87</td>\n",
       "      <td>INVESTIMAGE 1 FUNDO DE FINANCIAMENTO DA INDUST...</td>\n",
       "      <td>2021-03-10</td>\n",
       "      <td>2021-04-12</td>\n",
       "      <td>AGO</td>\n",
       "      <td>20210412142644UP94a750af962342ecbe5aac02ea8092...</td>\n",
       "      <td>NaN</td>\n",
       "      <td>http://sistemas.cvm.gov.br/docsrecebidos/20210...</td>\n",
       "    </tr>\n",
       "    <tr>\n",
       "      <th>14139</th>\n",
       "      <td>FUNCINE</td>\n",
       "      <td>10.500.895/0001-87</td>\n",
       "      <td>INVESTIMAGE 1 FUNDO DE FINANCIAMENTO DA INDUST...</td>\n",
       "      <td>2021-03-10</td>\n",
       "      <td>2021-04-09</td>\n",
       "      <td>REGUL FDO</td>\n",
       "      <td>20210409161247UP8c02dd755dff49edb564ee4130cf93...</td>\n",
       "      <td>NaN</td>\n",
       "      <td>http://sistemas.cvm.gov.br/docsrecebidos/20210...</td>\n",
       "    </tr>\n",
       "    <tr>\n",
       "      <th>14140</th>\n",
       "      <td>FUNCINE</td>\n",
       "      <td>10.500.895/0001-87</td>\n",
       "      <td>INVESTIMAGE 1 FUNDO DE FINANCIAMENTO DA INDUST...</td>\n",
       "      <td>2021-03-10</td>\n",
       "      <td>2021-04-12</td>\n",
       "      <td>REGUL FDO</td>\n",
       "      <td>20210412142644UP5ec32fba749a4a73a5718c4d5b4491...</td>\n",
       "      <td>NaN</td>\n",
       "      <td>http://sistemas.cvm.gov.br/docsrecebidos/20210...</td>\n",
       "    </tr>\n",
       "    <tr>\n",
       "      <th>14141</th>\n",
       "      <td>FUNCINE</td>\n",
       "      <td>11.179.262/0001-81</td>\n",
       "      <td>FUNCINE - BRB BRASÍLIA FUNCINE</td>\n",
       "      <td>2021-04-08</td>\n",
       "      <td>2021-04-08</td>\n",
       "      <td>AGO</td>\n",
       "      <td>20210408193318UP1dbf7ef9da244ae3b69a92ed5d7d82...</td>\n",
       "      <td>NaN</td>\n",
       "      <td>http://sistemas.cvm.gov.br/docsrecebidos/20210...</td>\n",
       "    </tr>\n",
       "    <tr>\n",
       "      <th>14142</th>\n",
       "      <td>FUNCINE</td>\n",
       "      <td>11.870.275/0001-00</td>\n",
       "      <td>FUNCINE RIO 1 - FUNCINE</td>\n",
       "      <td>2021-02-25</td>\n",
       "      <td>2021-03-01</td>\n",
       "      <td>AGO</td>\n",
       "      <td>20210301193925UP038c19dea1e343328a563712691733...</td>\n",
       "      <td>NaN</td>\n",
       "      <td>http://sistemas.cvm.gov.br/docsrecebidos/20210...</td>\n",
       "    </tr>\n",
       "  </tbody>\n",
       "</table>\n",
       "<p>306144 rows × 9 columns</p>\n",
       "</div>"
      ],
      "text/plain": [
       "      TP_FUNDO          CNPJ_FUNDO  \\\n",
       "0         FAPI  02.010.153/0001-45   \n",
       "1         FAPI  02.177.812/0001-32   \n",
       "2         FAPI  02.177.815/0001-76   \n",
       "3         FAPI  02.185.027/0001-21   \n",
       "4         FAPI  02.226.122/0001-26   \n",
       "...        ...                 ...   \n",
       "14138  FUNCINE  10.500.895/0001-87   \n",
       "14139  FUNCINE  10.500.895/0001-87   \n",
       "14140  FUNCINE  10.500.895/0001-87   \n",
       "14141  FUNCINE  11.179.262/0001-81   \n",
       "14142  FUNCINE  11.870.275/0001-00   \n",
       "\n",
       "                                            DENOM_SOCIAL   DT_COMPTC  \\\n",
       "0      BB FAPI FUNDO DE APOSENTADORIA PROGRAMADA INDI...  2019-12-31   \n",
       "1      ITAU FAPI RENDA FIXA - FUNDO DE APOSENTADORIA ...  2019-12-31   \n",
       "2      ITAU FAPI CONSERVADOR - FUNDO DE APOSENTADORIA...  2019-12-31   \n",
       "3      BRADESCO FUNDO DE APOSENTADORIA PROGRAMADA IND...  2019-12-31   \n",
       "4      UNIBANCO FUNDO DE APOSENTADORIA PROGRAMADA IND...  2019-12-31   \n",
       "...                                                  ...         ...   \n",
       "14138  INVESTIMAGE 1 FUNDO DE FINANCIAMENTO DA INDUST...  2021-03-10   \n",
       "14139  INVESTIMAGE 1 FUNDO DE FINANCIAMENTO DA INDUST...  2021-03-10   \n",
       "14140  INVESTIMAGE 1 FUNDO DE FINANCIAMENTO DA INDUST...  2021-03-10   \n",
       "14141                     FUNCINE - BRB BRASÍLIA FUNCINE  2021-04-08   \n",
       "14142                            FUNCINE RIO 1 - FUNCINE  2021-02-25   \n",
       "\n",
       "         DT_RECEB          TP_DOC  \\\n",
       "0      2020-03-10  DEMONST CONTAB   \n",
       "1      2020-03-02  DEMONST CONTAB   \n",
       "2      2020-03-02  DEMONST CONTAB   \n",
       "3      2020-03-13  DEMONST CONTAB   \n",
       "4      2020-02-28  DEMONST CONTAB   \n",
       "...           ...             ...   \n",
       "14138  2021-04-12             AGO   \n",
       "14139  2021-04-09       REGUL FDO   \n",
       "14140  2021-04-12       REGUL FDO   \n",
       "14141  2021-04-08             AGO   \n",
       "14142  2021-03-01             AGO   \n",
       "\n",
       "                                                  NM_ARQ  ID_DOC  \\\n",
       "0      20200310113210UP3f6ecb6624c745658f8a34ab64ac61...     NaN   \n",
       "1      20200302164007UPcc7ca8cbfba1412d897304b1bf2c5e...     NaN   \n",
       "2      20200302164106UP951351fb8bfb45e7a7d55d575c4c78...     NaN   \n",
       "3      20200313164431UP2bca9fcb3cfe4cefa5c82eaa61503f...     NaN   \n",
       "4      20200228185716UP88e6134308c3488884a0e3005b0926...     NaN   \n",
       "...                                                  ...     ...   \n",
       "14138  20210412142644UP94a750af962342ecbe5aac02ea8092...     NaN   \n",
       "14139  20210409161247UP8c02dd755dff49edb564ee4130cf93...     NaN   \n",
       "14140  20210412142644UP5ec32fba749a4a73a5718c4d5b4491...     NaN   \n",
       "14141  20210408193318UP1dbf7ef9da244ae3b69a92ed5d7d82...     NaN   \n",
       "14142  20210301193925UP038c19dea1e343328a563712691733...     NaN   \n",
       "\n",
       "                                                LINK_ARQ  \n",
       "0      http://sistemas.cvm.gov.br/docsrecebidos/20200...  \n",
       "1      http://sistemas.cvm.gov.br/docsrecebidos/20200...  \n",
       "2      http://sistemas.cvm.gov.br/docsrecebidos/20200...  \n",
       "3      http://sistemas.cvm.gov.br/docsrecebidos/20200...  \n",
       "4      http://sistemas.cvm.gov.br/docsrecebidos/20200...  \n",
       "...                                                  ...  \n",
       "14138  http://sistemas.cvm.gov.br/docsrecebidos/20210...  \n",
       "14139  http://sistemas.cvm.gov.br/docsrecebidos/20210...  \n",
       "14140  http://sistemas.cvm.gov.br/docsrecebidos/20210...  \n",
       "14141  http://sistemas.cvm.gov.br/docsrecebidos/20210...  \n",
       "14142  http://sistemas.cvm.gov.br/docsrecebidos/20210...  \n",
       "\n",
       "[306144 rows x 9 columns]"
      ]
     },
     "execution_count": 9,
     "metadata": {},
     "output_type": "execute_result"
    }
   ],
   "source": [
    "df_cvm = func.merging_cvm('../data/portal_data/csv/')\n",
    "df_cvm"
   ]
  },
  {
   "cell_type": "markdown",
   "metadata": {},
   "source": [
    "## Clean df_cvm"
   ]
  },
  {
   "cell_type": "code",
   "execution_count": 10,
   "metadata": {},
   "outputs": [],
   "source": [
    "df_cvm=func.clean_cvm(df_cvm)"
   ]
  },
  {
   "cell_type": "markdown",
   "metadata": {},
   "source": [
    "# Reading Economatica data\n",
    "Economatica is an investment software. A table was created on their platform with the target values we want to predict."
   ]
  },
  {
   "cell_type": "code",
   "execution_count": 12,
   "metadata": {},
   "outputs": [],
   "source": [
    "df_eco= func.read_eco_data('../data/economatica21-05-24.xlsx')"
   ]
  },
  {
   "cell_type": "markdown",
   "metadata": {},
   "source": [
    "# Rebalancing\n",
    "There are many more funds that dont follow the resolution, rebalamcing was needed\n",
    "\n",
    "Economatica has the resolution status on the present day, not from past reports. Research with specialists showed that funds don't usually change its status (98%).\n",
    "\n",
    "To decrease the imbalance of our binomial distribution we decided to extend the status of the present report to  past documnets.\n",
    "\n"
   ]
  },
  {
   "cell_type": "code",
   "execution_count": 13,
   "metadata": {},
   "outputs": [],
   "source": [
    "df_eco = func.rebalance_eco(df_eco)"
   ]
  },
  {
   "cell_type": "markdown",
   "metadata": {},
   "source": [
    "# Merging & Fixing Target\n",
    "\n",
    "with the premise that an Employer ID that follows Res 4661 has always followed it, the merge will happend only on CNPJ/EmployerID\n",
    "used a dictionary com clean target to ones and zeros"
   ]
  },
  {
   "cell_type": "code",
   "execution_count": 16,
   "metadata": {},
   "outputs": [],
   "source": [
    "df = func.merge_fix_target(df_cvm,df_eco)"
   ]
  },
  {
   "cell_type": "markdown",
   "metadata": {},
   "source": [
    "## Analyses\n",
    "Transforming complex files to plain will have total different routes depending on the type of file"
   ]
  },
  {
   "cell_type": "code",
   "execution_count": 14,
   "metadata": {},
   "outputs": [
    {
     "name": "stdout",
     "output_type": "stream",
     "text": [
      "pdf 16707\n",
      "doc 2178\n",
      "other 0\n"
     ]
    }
   ],
   "source": [
    "doc=0\n",
    "pdf=0\n",
    "other=0\n",
    "for i in list(cvm_and_eco['NM_ARQ']):\n",
    "    if i[-3:].upper()=='DOC':\n",
    "        doc+=1\n",
    "    elif i[-3:].upper()=='PDF':\n",
    "        pdf+=1\n",
    "    else:\n",
    "        print(i[-3:])\n",
    "        \n",
    "print('pdf',pdf)\n",
    "print('doc',doc)\n",
    "print('other',other)"
   ]
  },
  {
   "cell_type": "markdown",
   "metadata": {},
   "source": [
    "It is expected that files with the sabe Administrator will be simmilar"
   ]
  },
  {
   "cell_type": "code",
   "execution_count": 15,
   "metadata": {},
   "outputs": [
    {
     "data": {
      "text/plain": [
       "Bem Dtvm                                    2496\n",
       "BNY Mellon Servicos Financeiros Dtvm SA     2473\n",
       "BTG Pactual Servicos Financeiros SA Dtvm    1419\n",
       "Intrag                                      1379\n",
       "Itau Unibanco SA                            1115\n",
       "Singulare Corretora de Titulos e Valores     881\n",
       "Santander Caceis Brasil Dtvm SA              796\n",
       "Bradesco                                     726\n",
       "-                                            662\n",
       "Credit Suisse Hedging Griffo Cor Val S.A     659\n",
       "Safra Servicos de Adm Fiduciaria             579\n",
       "Banco Santander (Brasil) SA                  569\n",
       "BB Dtvm S.A                                  529\n",
       "BNP Paribas                                  505\n",
       "Brl Dtvm                                     501\n",
       "Name: Administrator, dtype: int64"
      ]
     },
     "execution_count": 15,
     "metadata": {},
     "output_type": "execute_result"
    }
   ],
   "source": [
    "cvm_and_eco['Administrator'].value_counts()[:15]"
   ]
  },
  {
   "cell_type": "markdown",
   "metadata": {},
   "source": [
    "# Create a df with one of each Administrator"
   ]
  },
  {
   "cell_type": "code",
   "execution_count": 18,
   "metadata": {},
   "outputs": [],
   "source": [
    "administrator_df = cvm_and_eco.drop_duplicates(subset=['Administrator'])"
   ]
  },
  {
   "cell_type": "code",
   "execution_count": 19,
   "metadata": {},
   "outputs": [],
   "source": [
    "administrator_df.to_json('../data/administrator_df.json')"
   ]
  },
  {
   "cell_type": "markdown",
   "metadata": {},
   "source": [
    "## Now we have a Data Frame with all the info we needed to download the files and and find Target"
   ]
  },
  {
   "cell_type": "code",
   "execution_count": 17,
   "metadata": {},
   "outputs": [],
   "source": [
    "df.to_json('../data/cvm_merge_eco.json')"
   ]
  }
 ],
 "metadata": {
  "kernelspec": {
   "display_name": "Python 3",
   "language": "python",
   "name": "python3"
  },
  "language_info": {
   "codemirror_mode": {
    "name": "ipython",
    "version": 3
   },
   "file_extension": ".py",
   "mimetype": "text/x-python",
   "name": "python",
   "nbconvert_exporter": "python",
   "pygments_lexer": "ipython3",
   "version": "3.7.9"
  }
 },
 "nbformat": 4,
 "nbformat_minor": 2
}
